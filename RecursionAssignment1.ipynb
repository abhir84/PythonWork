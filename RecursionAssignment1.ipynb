{
 "cells": [
  {
   "cell_type": "code",
   "execution_count": 1,
   "id": "6f20b464-4a8f-41db-aba0-845cffbe32a3",
   "metadata": {},
   "outputs": [
    {
     "name": "stdin",
     "output_type": "stream",
     "text": [
      "Enter the number of disks:  3\n"
     ]
    },
    {
     "name": "stdout",
     "output_type": "stream",
     "text": [
      "Move disk 1 from rod A to rod C.\n",
      "Move disk 2 from rod A to rod B.\n",
      "Move disk 1 from rod C to rod B.\n",
      "Move disk 3 from rod A to rod C.\n",
      "Move disk 1 from rod B to rod A.\n",
      "Move disk 2 from rod B to rod C.\n",
      "Move disk 1 from rod A to rod C.\n"
     ]
    }
   ],
   "source": [
    "#Q.1 Can you explain the logic and working of the Tower of Hanoi algorithm by writing a Java program?\n",
    "#How does the recursion work, and how are the movements of disks between rods accomplished?\n",
    "# Creating a recursive function  \n",
    "def tower_of_hanoi(disks, source, auxiliary, target):  \n",
    "    if(disks == 1):  \n",
    "        print('Move disk 1 from rod {} to rod {}.'.format(source, target))  \n",
    "        return  \n",
    "    # function call itself  \n",
    "    tower_of_hanoi(disks - 1, source, target, auxiliary)  \n",
    "    print('Move disk {} from rod {} to rod {}.'.format(disks, source, target))  \n",
    "    tower_of_hanoi(disks - 1, auxiliary, source, target)  \n",
    "  \n",
    "  \n",
    "disks = int(input('Enter the number of disks: '))  \n",
    "# We are referring source as A, auxiliary as B, and target as C  \n",
    "tower_of_hanoi(disks, 'A', 'B', 'C')  # Calling the function\n"
   ]
  },
  {
   "cell_type": "code",
   "execution_count": 2,
   "id": "41bde6ff-8fed-4b65-9d45-435f32140f7f",
   "metadata": {},
   "outputs": [
    {
     "name": "stdout",
     "output_type": "stream",
     "text": [
      "Operations Required:  35\n",
      "Operations Required:  3\n"
     ]
    }
   ],
   "source": [
    "#Given two strings word1 and word2, return the minimum number of operations required to convert word1\n",
    "#to word2.\n",
    "\n",
    "def transformString(A, B):\n",
    "    if len(A) != len(B):\n",
    "        return -1    \n",
    "    count = 0\n",
    "    i = len(A) - 1\n",
    "    j = len(B) - 1\n",
    "    \n",
    "    while i >= 0 and j >= 0:\n",
    "        if A[i] == B[j]:\n",
    "            i -= 1\n",
    "            j -= 1\n",
    "        else:\n",
    "            count += 1\n",
    "            i -= 1    \n",
    "    return count\n",
    "A = \"Hello Welcome to Tutorialspoint    \"\n",
    "B = \"Tutorialspoint simply easy learning\"\n",
    "print(\"Operations Required: \", transformString(A, B))  \n",
    "\n",
    "A = \"EACBD\"\n",
    "B = \"EABCD\"\n",
    "print(\"Operations Required: \", transformString(A, B)) \n"
   ]
  },
  {
   "cell_type": "code",
   "execution_count": 3,
   "id": "585c7f62-93a5-4b0d-a6c0-b67467e681cc",
   "metadata": {},
   "outputs": [
    {
     "name": "stdout",
     "output_type": "stream",
     "text": [
      "Largest in given array  22\n"
     ]
    }
   ],
   "source": [
    "#Print the max value of the array [ 13, 1, -3, 22, 5].\n",
    "\n",
    "def largest(arr, n):\n",
    " \n",
    "    # Initialize maximum element\n",
    "    max = arr[0]\n",
    " \n",
    "    # Traverse array elements from second\n",
    "    # and compare every element with\n",
    "    # current max\n",
    "    for i in range(1, n):\n",
    "        if arr[i] > max:\n",
    "            max = arr[i]\n",
    "    return max\n",
    " \n",
    " \n",
    "# Driver Code\n",
    "arr = [ 13, 1, -3, 22, 5]\n",
    "n = len(arr)\n",
    "Ans = largest(arr, n)\n",
    "print(\"Largest in given array \", Ans)\n"
   ]
  },
  {
   "cell_type": "code",
   "execution_count": 4,
   "id": "5eb5d3ec-f32d-4097-aed9-3a8f3a111a53",
   "metadata": {},
   "outputs": [
    {
     "name": "stdout",
     "output_type": "stream",
     "text": [
      "Sum of the array is  34\n"
     ]
    }
   ],
   "source": [
    "#Find the sum of the values of the array [92, 23, 15, -20, 10].\n",
    "\n",
    "def _sum(arr):\n",
    " \n",
    "    # initialize a variable\n",
    "    # to store the sum\n",
    "    # while iterating through\n",
    "    # the array later\n",
    "    sum = 0\n",
    " \n",
    "    # iterate through the array\n",
    "    # and add each element to the sum variable\n",
    "    # one at a time\n",
    "    for i in arr:\n",
    "        sum = sum + i\n",
    " \n",
    "    return(sum)\n",
    " \n",
    " \n",
    "# main function\n",
    "if __name__ == \"__main__\":\n",
    "    # input values to list\n",
    "    arr = [12, 3, 4, 15]\n",
    " \n",
    "    # calculating length of array\n",
    "    n = len(arr)\n",
    "    # calling function ans store the sum in ans\n",
    "    ans = _sum(arr)\n",
    "    # display sum\n",
    "    print('Sum of the array is ', ans)"
   ]
  },
  {
   "cell_type": "code",
   "execution_count": 7,
   "id": "8cce0ddc-6f1c-4961-ac5d-2369be325f98",
   "metadata": {},
   "outputs": [
    {
     "name": "stdout",
     "output_type": "stream",
     "text": [
      "True\n"
     ]
    }
   ],
   "source": [
    "#Q.5 Given a number n. Print if it is an armstrong number or not.An armstrong number is a number if the sum\n",
    "#of every digit in that number raised to the power of total digits in that number is equal to the number.\n",
    "#Example : 153 = 1^3 + 5^3 + 3^3 = 1 + 125 + 27 = 153 hence 153 is an armstrong number. (Easy)\n",
    "\n",
    "# python3 >= 3.6 for typehint support\n",
    "# This example avoids the complexity of ordering\n",
    "# through type conversions & string manipulation\n",
    " \n",
    " \n",
    "def is_armstrong(num):\n",
    "    num_str = str(num)\n",
    "    n = len(num_str)\n",
    "    sum = 0\n",
    "    for digit in num_str:\n",
    "        sum += int(digit)**n\n",
    "    if sum == num:\n",
    "        return True\n",
    "    else:\n",
    "        return False\n",
    "num=153\n",
    "print(is_armstrong(num))"
   ]
  },
  {
   "cell_type": "code",
   "execution_count": null,
   "id": "b4028bc6-8512-4a3c-bb23-8ff5962ff121",
   "metadata": {},
   "outputs": [],
   "source": []
  }
 ],
 "metadata": {
  "kernelspec": {
   "display_name": "Python 3 (ipykernel)",
   "language": "python",
   "name": "python3"
  },
  "language_info": {
   "codemirror_mode": {
    "name": "ipython",
    "version": 3
   },
   "file_extension": ".py",
   "mimetype": "text/x-python",
   "name": "python",
   "nbconvert_exporter": "python",
   "pygments_lexer": "ipython3",
   "version": "3.10.8"
  }
 },
 "nbformat": 4,
 "nbformat_minor": 5
}
