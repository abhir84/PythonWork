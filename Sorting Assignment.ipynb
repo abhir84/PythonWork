{
 "cells": [
  {
   "cell_type": "code",
   "execution_count": 1,
   "id": "8831fb91-738d-4aa3-b383-e44dad7a4efb",
   "metadata": {},
   "outputs": [
    {
     "name": "stdout",
     "output_type": "stream",
     "text": [
      "30\n"
     ]
    }
   ],
   "source": [
    "#1.Given an array of n numbers, give an algorithm which gives the element appearing maximum\n",
    "#number of times?\n",
    "\n",
    "def mostFrequent(arr, n): \n",
    "  maxcount = 0; \n",
    "  element_having_max_freq = 0; \n",
    "  for i in range(0, n): \n",
    "    count = 0\n",
    "    for j in range(0, n): \n",
    "      if(arr[i] == arr[j]): \n",
    "        count += 1\n",
    "    if(count > maxcount): \n",
    "      maxcount = count \n",
    "      element_having_max_freq = arr[i] \n",
    "    \n",
    "  return element_having_max_freq; \n",
    "  \n",
    "# Driver Code \n",
    "arr = [40,50,30,40,50,30,30] \n",
    "n = len(arr) \n",
    "print(mostFrequent(arr, n)) \n",
    "\n"
   ]
  },
  {
   "cell_type": "code",
   "execution_count": 3,
   "id": "7dcad19b-2550-4f9f-813c-15f94dedca64",
   "metadata": {},
   "outputs": [
    {
     "name": "stdout",
     "output_type": "stream",
     "text": [
      "5\n"
     ]
    }
   ],
   "source": [
    "#We are given a list of n-1 integers and these integers are in the range of 1 to n . There are no\n",
    "#duplicates in the list. One of the integers is missing in the list. Give an algorithm to find that element Ex:\n",
    "#[1,2,4,6,3,7,8] 5 is the missing num.\n",
    "\n",
    "def findMissing(arr, N):\n",
    "   \n",
    "    # create a list of zeroes\n",
    "    temp = [0] * (N+1)\n",
    " \n",
    "    for i in range(0, N):\n",
    "        temp[arr[i] - 1] = 1\n",
    " \n",
    "    for i in range(0, N+1):\n",
    "        if(temp[i] == 0):\n",
    "            ans = i + 1\n",
    " \n",
    "    print(ans)\n",
    " \n",
    "# Driver code\n",
    "if __name__ == '__main__':\n",
    "    arr = [1,2,4,6,3,7,8]\n",
    "    N = len(arr)\n",
    " \n",
    "    # Function call\n",
    "    findMissing(arr, N)"
   ]
  },
  {
   "cell_type": "code",
   "execution_count": 4,
   "id": "ec4c7f25-b544-40bd-97a4-125d18f7cfc2",
   "metadata": {},
   "outputs": [
    {
     "name": "stdout",
     "output_type": "stream",
     "text": [
      "5\n"
     ]
    }
   ],
   "source": [
    "#Given an array of n positive numbers. All numbers occurs even number of times except 1 which\n",
    "#occurs odd number of times. Find that number in O(n) time and O(1) space. Ex: [1,2,3,2,3,1,3]. 3 is repeats odd\n",
    "#times.\n",
    "\n",
    "def getOddOccurrence(arr, arr_size):\n",
    "     \n",
    "    for i in range(0,arr_size):\n",
    "        count = 0\n",
    "        for j in range(0, arr_size):\n",
    "            if arr[i] == arr[j]:\n",
    "                count+=1\n",
    "             \n",
    "        if (count % 2 != 0):\n",
    "            return arr[i]\n",
    "         \n",
    "    return -1\n",
    "     \n",
    "     \n",
    "# driver code \n",
    "arr = [2, 3, 5, 4, 5, 2, 4, 3, 5, 2, 4, 4, 2 ]\n",
    "n = len(arr)\n",
    "print(getOddOccurrence(arr, n))\n",
    "\n"
   ]
  },
  {
   "cell_type": "code",
   "execution_count": 5,
   "id": "bc97d97b-b801-4414-9f26-a37eebf6d439",
   "metadata": {},
   "outputs": [
    {
     "name": "stdout",
     "output_type": "stream",
     "text": [
      "Yes\n"
     ]
    }
   ],
   "source": [
    "#Given an array of n elements. Find two elements in the array such that their sum is equal to given\n",
    "#element K.\n",
    "\n",
    "def chkPair(A, size, x):\n",
    "    for i in range(0, size - 1):\n",
    "        for j in range(i + 1, size):\n",
    "            if (A[i] + A[j] == x):\n",
    "                return 1\n",
    "    return 0\n",
    " \n",
    " \n",
    "if __name__ == \"__main__\":\n",
    "    A = [0, -1, 2, -3, 1]\n",
    "    x = -2\n",
    "    size = len(A)\n",
    " \n",
    "    if (chkPair(A, size, x)):\n",
    "        print(\"Yes\")\n",
    " \n",
    "    else:\n",
    "        print(\"No\")"
   ]
  },
  {
   "cell_type": "code",
   "execution_count": 7,
   "id": "487f3be7-d17e-436e-9b18-5f2fe9ce3e55",
   "metadata": {},
   "outputs": [
    {
     "name": "stdout",
     "output_type": "stream",
     "text": [
      "The two elements whose sum is minimum are -80 and  85\n"
     ]
    }
   ],
   "source": [
    "#Given an array of both positive and negative numbers, find two numbers such that their sum is\n",
    "#closest to 0. Ex: [ 1 ,60 ,-10, 70, -80,85].\n",
    "\n",
    "def minAbsSumPair(arr,arr_size):\n",
    "    inv_count = 0\n",
    " \n",
    "    # Array should have at least\n",
    "    # two elements\n",
    "    if arr_size < 2:\n",
    "        print(\"Invalid Input\")\n",
    "        return\n",
    " \n",
    "    # Initialization of values \n",
    "    min_l = 0\n",
    "    min_r = 1\n",
    "    min_sum = arr[0] + arr[1]\n",
    "    for l in range (0, arr_size - 1):\n",
    "        for r in range (l + 1, arr_size):\n",
    "            sum = arr[l] + arr[r]                 \n",
    "            if abs(min_sum) > abs(sum):         \n",
    "                min_sum = sum\n",
    "                min_l = l\n",
    "                min_r = r\n",
    " \n",
    "    print(\"The two elements whose sum is minimum are\", \n",
    "            arr[min_l], \"and \", arr[min_r])\n",
    " \n",
    "# Driver program to test above function \n",
    "arr = [1, 60, -10, 70, -80, 85]\n",
    " \n",
    "minAbsSumPair(arr, 6);"
   ]
  },
  {
   "cell_type": "code",
   "execution_count": 8,
   "id": "c2629f85-7623-4cae-91fd-a578bcb49f84",
   "metadata": {},
   "outputs": [
    {
     "name": "stdout",
     "output_type": "stream",
     "text": [
      "Triplet is 4 ,  8 ,  10\n"
     ]
    },
    {
     "data": {
      "text/plain": [
       "True"
      ]
     },
     "execution_count": 8,
     "metadata": {},
     "output_type": "execute_result"
    }
   ],
   "source": [
    "#Given an array of n elements . Find three elements such that their sum is equal to the given\n",
    "#number.\n",
    "def find3Numbers(A, arr_size, sum):\n",
    " \n",
    "    # Sort the elements \n",
    "    A.sort()\n",
    " \n",
    "    # Now fix the first element \n",
    "    # one by one and find the\n",
    "    # other two elements \n",
    "    for i in range(0, arr_size-2):\n",
    "     \n",
    " \n",
    "        # To find the other two elements,\n",
    "        # start two index variables from\n",
    "        # two corners of the array and\n",
    "        # move them toward each other\n",
    "         \n",
    "        # index of the first element\n",
    "        # in the remaining elements\n",
    "        l = i + 1\n",
    "         \n",
    "        # index of the last element\n",
    "        r = arr_size-1\n",
    "        while (l < r):\n",
    "         \n",
    "            if( A[i] + A[l] + A[r] == sum):\n",
    "                print(\"Triplet is\", A[i], \n",
    "                     ', ', A[l], ', ', A[r]);\n",
    "                return True\n",
    "             \n",
    "            elif (A[i] + A[l] + A[r] < sum):\n",
    "                l += 1\n",
    "            else: # A[i] + A[l] + A[r] > sum\n",
    "                r -= 1\n",
    " \n",
    "    # If we reach here, then\n",
    "    # no triplet was found\n",
    "    return False\n",
    " \n",
    "# Driver program to test above function \n",
    "A = [1, 4, 45, 6, 10, 8]\n",
    "sum = 22\n",
    "arr_size = len(A)\n",
    " \n",
    "find3Numbers(A, arr_size, sum)"
   ]
  },
  {
   "cell_type": "code",
   "execution_count": 9,
   "id": "5c1864d8-53dc-45f3-8ebe-3b8162728bc4",
   "metadata": {},
   "outputs": [
    {
     "name": "stdout",
     "output_type": "stream",
     "text": [
      "4\n"
     ]
    }
   ],
   "source": [
    "#Given an array of n elements . Find three elements i, j, k in the array such that\n",
    "#i * i + j * j = k*k.\n",
    "\n",
    "# Python3 program for the above approach\n",
    " \n",
    "# Function to count triplets with the\n",
    "# given conditions\n",
    "def CountTriplets(arr, n):\n",
    " \n",
    "    cnt = 0;\n",
    " \n",
    "    for i in range(0, n):\n",
    "        for j in range(i + 1, n):\n",
    "            for k in range(j + 1, n):\n",
    " \n",
    "                # If it satisfy the\n",
    "                # given conditions\n",
    "                if (arr[k] < arr[i] and arr[i] < arr[j]):\n",
    "                    cnt += 1;\n",
    "                 \n",
    "    # Return the final count\n",
    "    return cnt;\n",
    " \n",
    "# Driver Code\n",
    " \n",
    "# Given array arr[]\n",
    "arr = [ 2, 5, 1, 3, 0 ];\n",
    " \n",
    "n = len(arr);\n",
    " \n",
    "# Function Call\n",
    "print(CountTriplets(arr, n))\n"
   ]
  },
  {
   "cell_type": "code",
   "execution_count": 13,
   "id": "457633c2-90ab-4e9b-a461-c689c9c97ee1",
   "metadata": {},
   "outputs": [
    {
     "name": "stdout",
     "output_type": "stream",
     "text": [
      "9\n"
     ]
    }
   ],
   "source": [
    "#An element is a majority if it appears more than n/2 times. Give an algorithm takes an array of n\n",
    "#element as argument and identifies a majority\n",
    "\n",
    "\n",
    "def majorityElement(arr, n):\n",
    "  \n",
    "    maxCount = 0\n",
    "    index = -1 \n",
    "    for i in range(n):\n",
    "  \n",
    "        count = 0\n",
    "        for j in range(n):\n",
    "  \n",
    "            if(arr[i] == arr[j]):\n",
    "                count += 1\n",
    "  \n",
    "        # update maxCount if count of\n",
    "        # current element is greater\n",
    "        if(count > maxCount):\n",
    "  \n",
    "            maxCount = count\n",
    "            index = i\n",
    "  \n",
    "    # if maxCount is greater than n/2\n",
    "    # return the element\n",
    "    if (maxCount > n//2):\n",
    "        print(arr[index])\n",
    "  \n",
    "    else:\n",
    "        print(\"No Majority Element Found\")\n",
    "  \n",
    "  \n",
    "# Main  method\n",
    "if __name__ == \"__main__\":\n",
    "    arr = [9, 4, 3, 9, 9, 4, 9, 9, 8]\n",
    "    n = len(arr)\n",
    "  \n",
    "    # Call the function\n",
    "    majorityElement(arr, n)"
   ]
  },
  {
   "cell_type": "code",
   "execution_count": 16,
   "id": "c85a2809-5610-487b-994f-b9d6d0e8706c",
   "metadata": {},
   "outputs": [
    {
     "name": "stdout",
     "output_type": "stream",
     "text": [
      "0 0 0 0 0 1 1 1 1 1 2 2 "
     ]
    }
   ],
   "source": [
    "#Sort an array of 0’s, 1’s and 2’s [or R’s, G’s and B’s]: Given an array A[] consisting of 0’s, 1’s and\n",
    "#2’s, give an algorithm for sorting A[].The algorithm should put all 0’s first, then all 1’s and finally all 2’s at the\n",
    "#end.\n",
    "\n",
    "def sort012(a, arr_size):\n",
    "    lo = 0\n",
    "    hi = arr_size - 1\n",
    "    mid = 0\n",
    "    # Iterate till all the elements\n",
    "    # are sorted\n",
    "    while mid <= hi:\n",
    "        # If the element is 0\n",
    "        if a[mid] == 0:\n",
    "            a[lo], a[mid] = a[mid], a[lo]\n",
    "            lo = lo + 1\n",
    "            mid = mid + 1\n",
    "        # If the element is 1\n",
    "        elif a[mid] == 1:\n",
    "            mid = mid + 1\n",
    "        # If the element is 2\n",
    "        else:\n",
    "            a[mid], a[hi] = a[hi], a[mid]\n",
    "            hi = hi - 1\n",
    "    return a\n",
    " \n",
    "# Function to print array\n",
    " \n",
    " \n",
    "def printArray(a):\n",
    "    for k in a:\n",
    "        print(k, end=' ')\n",
    " \n",
    " \n",
    "# Driver Program\n",
    "arr = [0, 1, 1, 0, 1, 2, 1, 2, 0, 0, 0, 1]\n",
    "arr_size = len(arr)\n",
    "arr = sort012(arr, arr_size)\n",
    "printArray(arr)"
   ]
  }
 ],
 "metadata": {
  "kernelspec": {
   "display_name": "Python 3 (ipykernel)",
   "language": "python",
   "name": "python3"
  },
  "language_info": {
   "codemirror_mode": {
    "name": "ipython",
    "version": 3
   },
   "file_extension": ".py",
   "mimetype": "text/x-python",
   "name": "python",
   "nbconvert_exporter": "python",
   "pygments_lexer": "ipython3",
   "version": "3.10.8"
  }
 },
 "nbformat": 4,
 "nbformat_minor": 5
}
