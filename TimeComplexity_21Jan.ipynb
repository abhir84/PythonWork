{
 "cells": [
  {
   "cell_type": "code",
   "execution_count": null,
   "id": "20beff30-c3c7-457d-add8-d12283f52152",
   "metadata": {},
   "outputs": [],
   "source": [
    "##############################TIME COMPLEXITY Q's#########################################################################\n",
    "\n",
    "Problem 1\n",
    "def quicksort(arr):\n",
    "if len(arr) <= 1:\n",
    "return arr\n",
    "pivot = arr[len(arr) // 2]\n",
    "left = [x for x in arr if x < pivot]\n",
    "middle = [x for x in arr if x == pivot]\n",
    "right = [x for x in arr if x > pivot]\n",
    "return quicksort(left) + middle + quicksort(right)\n",
    "\n",
    "Time Complexity: O (1)\n",
    "\n",
    "Problem 2 :\n",
    "def nested_loop_example(matrix):\n",
    "rows, cols = len(matrix), len(matrix[0])\n",
    "total = 0\n",
    "for i in range(rows):\n",
    "for j in range(cols):\n",
    "total += matrix[i][j]\n",
    "return total\n",
    "\n",
    "Time Complexity:  O (n^2)\n",
    "\n",
    "\n",
    "Problem 3 :\n",
    "def example_function(arr):\n",
    "result = 0\n",
    "for element in arr:\n",
    "result += element\n",
    "return result\n",
    "\n",
    "Time Complexity:  O (n)\n",
    "\n",
    "Problem 4 :\n",
    "def longest_increasing_subsequence(nums):\n",
    "n = len(nums)\n",
    "lis = [1] * n\n",
    "for i in range(1, n):\n",
    "for j in range(0, i):\n",
    "if nums[i] > nums[j] and lis[i] < lis[j] + 1:\n",
    "lis[i] = lis[j] + 1\n",
    "return max(lis)\n",
    "\n",
    "Time Complexity: O (n^3)\n",
    "\n",
    "\n",
    "Problem 5 :\n",
    "def mysterious_function(arr):\n",
    "n = len(arr)\n",
    "result = 0\n",
    "for i in range(n):\n",
    "for j in range(i, n):\n",
    "result += arr[i] * arr[j]\n",
    "return result\n",
    "\n",
    "Time Complexity:  O (n^2)\n",
    "\n",
    "\n"
   ]
  },
  {
   "cell_type": "code",
   "execution_count": 1,
   "id": "e93656cc-e418-47bf-b56f-b336208443b3",
   "metadata": {},
   "outputs": [
    {
     "name": "stdin",
     "output_type": "stream",
     "text": [
      "Enter the number whose sum of digits you want: 123\n"
     ]
    },
    {
     "name": "stdout",
     "output_type": "stream",
     "text": [
      "Sum of digits of number 123 is 6 using recursion\n"
     ]
    }
   ],
   "source": [
    "#Write a recursive function to calculate the sum of digits of a given positive integer.\n",
    "#sum_of_digits(123) -> 6\n",
    "\n",
    "def sum_of_digit( n ):\n",
    "\tif n == 0:\n",
    "\t\treturn 0\n",
    "\treturn (n % 10 + sum_of_digit(int(n / 10)))\n",
    "\n",
    "\n",
    "num = int(input(\"Enter the number whose sum of digits you want:\"))\n",
    "result = sum_of_digit(num)\n",
    "print(\"Sum of digits of number\",num,\"is\", result, \"using recursion\")"
   ]
  },
  {
   "cell_type": "code",
   "execution_count": 13,
   "id": "40ff1715-5b0e-42ce-9814-1721d17d072e",
   "metadata": {},
   "outputs": [
    {
     "name": "stdin",
     "output_type": "stream",
     "text": [
      "How many terms?  6\n"
     ]
    },
    {
     "name": "stdout",
     "output_type": "stream",
     "text": [
      "Fibonacci sequence:\n",
      "0\n",
      "1\n",
      "1\n",
      "2\n",
      "3\n",
      "5\n"
     ]
    }
   ],
   "source": [
    "#Write a recursive function to generate the first n numbers of the Fibonacci series.\n",
    "#fibonacci_series(6) -> [0, 1, 1, 2, 3, 5]\n",
    "\n",
    "def recur_fibo(n):  \n",
    "   if n <= 1:  \n",
    "       return n  \n",
    "   else:  \n",
    "       return(recur_fibo(n-1) + recur_fibo(n-2))  \n",
    "# take input from the user  \n",
    "nterms = int(input(\"How many terms? \"))  \n",
    "# check if the number of terms is valid  \n",
    "if nterms <= 0:  \n",
    "   print(\"Plese enter a positive integer\")  \n",
    "else:  \n",
    "   print(\"Fibonacci sequence:\")  \n",
    "   for i in range(nterms):  \n",
    "       print(recur_fibo(i))  "
   ]
  },
  {
   "cell_type": "code",
   "execution_count": 14,
   "id": "ae7eae46-0a58-44b3-bc9f-f7c76424a564",
   "metadata": {},
   "outputs": [
    {
     "name": "stdout",
     "output_type": "stream",
     "text": [
      "Found a subset with given sum\n"
     ]
    }
   ],
   "source": [
    "#Given a set of positive integers and a target sum, write a recursive function to determine if there exists a subset\n",
    "#of the integers that adds up to the target sum.\n",
    "#subset_sum([3, 34, 4, 12, 5, 2], 9) -> True\n",
    "\n",
    "# A recursive solution for subset sum\n",
    "# problem\n",
    " \n",
    " \n",
    "# Returns true if there is a subset\n",
    "# of set[] with sun equal to given sum\n",
    "def isSubsetSum(set, n, sum):\n",
    " \n",
    "    # Base Cases\n",
    "    if (sum == 0):\n",
    "        return True\n",
    "    if (n == 0):\n",
    "        return False\n",
    " \n",
    "    # If last element is greater than\n",
    "    # sum, then ignore it\n",
    "    if (set[n - 1] > sum):\n",
    "        return isSubsetSum(set, n - 1, sum)\n",
    " \n",
    "    # Else, check if sum can be obtained\n",
    "    # by any of the following\n",
    "    # (a) including the last element\n",
    "    # (b) excluding the last element\n",
    "    return isSubsetSum(\n",
    "        set, n-1, sum) or isSubsetSum(\n",
    "        set, n-1, sum-set[n-1])\n",
    " \n",
    " \n",
    "# Driver code\n",
    "if __name__ == '__main__':\n",
    "    set = [3, 34, 4, 12, 5, 2]\n",
    "    sum = 9\n",
    "    n = len(set)\n",
    "    if (isSubsetSum(set, n, sum) == True):\n",
    "        print(\"Found a subset with given sum\")\n",
    "    else:\n",
    "        print(\"No subset with given sum\")"
   ]
  },
  {
   "cell_type": "code",
   "execution_count": 22,
   "id": "ac88b887-1638-4fd3-92e2-0edf63476689",
   "metadata": {},
   "outputs": [
    {
     "name": "stdout",
     "output_type": "stream",
     "text": [
      "True\n"
     ]
    }
   ],
   "source": [
    "#Given a non-empty string and a dictionary of words, write a recursive function to determine if the string can be\n",
    "#segmented into a space-separated sequence of dictionary words.\n",
    "#word_break( leetcode , [ leet , code ]) -> True\n",
    "\n",
    "def wordBreak(s, wordDict):\n",
    "    dp = [False] * (len(s) + 1)\n",
    "    dp[0] = True\n",
    "    \n",
    "    for i in range(1, len(s) + 1):\n",
    "        for w in wordDict:\n",
    "            if dp[i - len(w)] and s[i-len(w):i] == w:\n",
    "                dp[i] = True\n",
    "                \n",
    "    return dp[-1]\n",
    "\n",
    "print(wordBreak(\"ilikepython\", [\"i\", \"like\", \"python\"]))"
   ]
  },
  {
   "cell_type": "code",
   "execution_count": 24,
   "id": "e6a5d363-031e-4f3a-8714-8e9d9b4fd3fd",
   "metadata": {},
   "outputs": [
    {
     "name": "stdin",
     "output_type": "stream",
     "text": [
      "Enter n:  4\n"
     ]
    },
    {
     "name": "stdout",
     "output_type": "stream",
     "text": [
      ". Q . . \n",
      ". . . Q \n",
      "Q . . . \n",
      ". . Q . \n",
      "\n",
      ". . Q . \n",
      "Q . . . \n",
      ". . . Q \n",
      ". Q . . \n",
      "\n",
      "Number of solutions: 2\n"
     ]
    }
   ],
   "source": [
    "#Implement a recursive function to solve the N Queens problem, where you have to place N queens on an N×N\n",
    "#chessboard in such a way that no two queens threaten each other.\n",
    "#n_queens(4)\n",
    "\n",
    "\n",
    "class QueenChessBoard:\n",
    "    def __init__(self, size):\n",
    "        # board has dimensions size x size\n",
    "        self.size = size\n",
    "        # columns[r] is a number c if a queen is placed at row r and column c.\n",
    "        # columns[r] is out of range if no queen is place in row r.\n",
    "        # Thus after all queens are placed, they will be at positions\n",
    "        # (columns[0], 0), (columns[1], 1), ... (columns[size - 1], size - 1)\n",
    "        self.columns = []\n",
    " \n",
    "    def get_size(self):\n",
    "        return self.size\n",
    " \n",
    "    def get_queens_count(self):\n",
    "        return len(self.columns)\n",
    " \n",
    "    def place_in_next_row(self, column):\n",
    "        self.columns.append(column)\n",
    " \n",
    "    def remove_in_current_row(self):\n",
    "        return self.columns.pop()\n",
    " \n",
    "    def is_this_column_safe_in_next_row(self, column):\n",
    "        # index of next row\n",
    "        row = len(self.columns)\n",
    " \n",
    "        # check column\n",
    "        for queen_column in self.columns:\n",
    "            if column == queen_column:\n",
    "                return False\n",
    " \n",
    "        # check diagonal\n",
    "        for queen_row, queen_column in enumerate(self.columns):\n",
    "            if queen_column - queen_row == column - row:\n",
    "                return False\n",
    " \n",
    "        # check other diagonal\n",
    "        for queen_row, queen_column in enumerate(self.columns):\n",
    "            if ((self.size - queen_column) - queen_row\n",
    "                == (self.size - column) - row):\n",
    "                return False\n",
    " \n",
    "        return True\n",
    " \n",
    "    def display(self):\n",
    "        for row in range(self.size):\n",
    "            for column in range(self.size):\n",
    "                if column == self.columns[row]:\n",
    "                    print('Q', end=' ')\n",
    "                else:\n",
    "                    print('.', end=' ')\n",
    "            print()\n",
    " \n",
    " \n",
    "def print_all_solutions_to_n_queen(size):\n",
    "    \"\"\"Display a chessboard for each possible configuration of placing n queens\n",
    "    on an n x n chessboard where n = size and print the number of such\n",
    "    configurations.\"\"\"\n",
    "    board = QueenChessBoard(size)\n",
    "    number_of_solutions = print_all_solutions_helper(board)\n",
    "    print('Number of solutions:', number_of_solutions)\n",
    " \n",
    "def print_all_solutions_helper(board):\n",
    "    \"\"\"Display a chessboard for each possible configuration of filling the given\n",
    "    board with queens and return the number of such configurations.\"\"\"\n",
    "    size = board.get_size()\n",
    " \n",
    "    # if board is full, display solution\n",
    "    if size == board.get_queens_count():\n",
    "        board.display()\n",
    "        print()\n",
    "        return 1\n",
    " \n",
    "    number_of_solutions = 0\n",
    "    # place queen in next row\n",
    "    for column in range(size):\n",
    "        if board.is_this_column_safe_in_next_row(column):\n",
    "            board.place_in_next_row(column)\n",
    "            number_of_solutions += print_all_solutions_helper(board)\n",
    "            board.remove_in_current_row()\n",
    " \n",
    "    return number_of_solutions\n",
    " \n",
    " \n",
    "n = int(input('Enter n: '))\n",
    "print_all_solutions_to_n_queen(n)"
   ]
  },
  {
   "cell_type": "code",
   "execution_count": null,
   "id": "befaf7b7-55e1-486d-9b78-6ed2c0623545",
   "metadata": {},
   "outputs": [],
   "source": []
  }
 ],
 "metadata": {
  "kernelspec": {
   "display_name": "Python 3 (ipykernel)",
   "language": "python",
   "name": "python3"
  },
  "language_info": {
   "codemirror_mode": {
    "name": "ipython",
    "version": 3
   },
   "file_extension": ".py",
   "mimetype": "text/x-python",
   "name": "python",
   "nbconvert_exporter": "python",
   "pygments_lexer": "ipython3",
   "version": "3.10.8"
  }
 },
 "nbformat": 4,
 "nbformat_minor": 5
}
